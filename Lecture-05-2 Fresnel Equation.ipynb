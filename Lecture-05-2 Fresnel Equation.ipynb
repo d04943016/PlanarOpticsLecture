{
 "cells": [
  {
   "cell_type": "markdown",
   "metadata": {},
   "source": [
    "# Lecture-05-2 Fresnel Equation\n",
    "* author : Wei-Kai Lee\n",
    "* Data : 2019/12/13"
   ]
  },
  {
   "cell_type": "code",
   "execution_count": 1,
   "metadata": {},
   "outputs": [],
   "source": [
    "%matplotlib inline\n",
    "import matplotlib.pyplot as plt\n",
    "import numpy as np"
   ]
  },
  {
   "cell_type": "code",
   "execution_count": 2,
   "metadata": {},
   "outputs": [],
   "source": [
    "def SnellLaw(theta_i, ni, nt=1.0):\n",
    "    # theta_i : incident angle\n",
    "    # ni : the refractive index of the incident material\n",
    "    # nt : the refractive index of the transmissive material\n",
    "    theta_i = np.array( theta_i, dtype=np.complex_ )\n",
    "    \n",
    "    # theta_t : refractive angle\n",
    "    theta_t = np.arcsin( (ni/nt) * np.sin(theta_i) )\n",
    "    return theta_t\n",
    "def cal_r_tau_TE(theta_i, ni, nt=1.0):\n",
    "    # theta_i : incident angle\n",
    "    # ni : the refractive index of the incident material\n",
    "    # nt : the refractive index of the transmissive material\n",
    "    \n",
    "    # theta_t : refractive angle\n",
    "    theta_t = SnellLaw( theta_i, ni, nt)\n",
    "    # r_TE : reflection coefficients defined on the electric field\n",
    "    # tau_TE : transmission coefficients defined on the electric field\n",
    "    r_TE    = ( ni*np.cos(theta_i)-nt*np.cos(theta_t) ) / ( ni*np.cos(theta_i)+nt*np.cos(theta_t) )\n",
    "    tau_TE  = ( 2*ni*np.cos(theta_i) ) / ( ni*np.cos(theta_i)+nt*np.cos(theta_t) )\n",
    "    return r_TE, tau_TE\n",
    "def cal_r_tau_TM(theta_i, ni, nt=1.0):\n",
    "    # theta_i : incident angle\n",
    "    # ni : the refractive index of the incident material\n",
    "    # nt : the refractive index of the transmissive material\n",
    "    \n",
    "    # theta_t : refractive angle\n",
    "    theta_t = SnellLaw( theta_i, ni, nt)\n",
    "    # r_TM : reflection coefficients defined on the electric field\n",
    "    # tau_TM : transmission coefficients defined on the electric field\n",
    "    r_TM = ( nt*np.cos(theta_i)-ni*np.cos(theta_t) ) / ( ni*np.cos(theta_t)+nt*np.cos(theta_i) )\n",
    "    tau_TM = ( 2*ni*np.cos(theta_i) ) / ( ni*np.cos(theta_t)+nt*np.cos(theta_i) )\n",
    "    return r_TM, tau_TM"
   ]
  },
  {
   "cell_type": "code",
   "execution_count": 3,
   "metadata": {},
   "outputs": [],
   "source": [
    "def CriticalAngle( ni, nt):\n",
    "    # ni : the refractive index of the incident material\n",
    "    # nt : the refractive index of the transmissive material\n",
    "    return np.arcsin( nt/ni ) if nt<=ni else np.pi/2\n",
    "def BrewsterAngle(ni, nt=1.0):\n",
    "    # ni : the refractive index of the incident material\n",
    "    # nt : the refractive index of the transmissive material\n",
    "    theta_B = np.arctan( nt/ni )\n",
    "    return theta_B\n",
    "def cal_kz(k, kx, ky):\n",
    "    # n : refractive index\n",
    "    # ko : wave number in vacuum\n",
    "    # kx : wave number along x-axis\n",
    "    # ky : wave number along y-axis\n",
    "    kz = np.sqrt( k**2 - kx**2 - ky**2, dtype=np.complex_ )\n",
    "    return kz"
   ]
  },
  {
   "cell_type": "markdown",
   "metadata": {},
   "source": [
    "### Now we are going to show you how to prove the Fresnel equation by rigorous electromagnetic wave equations."
   ]
  },
  {
   "cell_type": "markdown",
   "metadata": {},
   "source": [
    "### what we have learned in Lecture 1 (Plane Wave)"
   ]
  },
  {
   "cell_type": "code",
   "execution_count": 4,
   "metadata": {},
   "outputs": [],
   "source": [
    "def wave_equation(A0, x, y, z, t=0.0, w=1.0, kx=1.0, ky=1.0, kz=1.0):\n",
    "    # A0 : the complex amplitude of the wave\n",
    "    # x, y, z : positions\n",
    "    # t : time\n",
    "    # w : angular frequency\n",
    "    # kx, ky, kz : wave number components\n",
    "    return A0 * np.exp( 1j * ( kx*x + ky*y + kz*z - w*t) )\n",
    "def cal_k(kx, ky, kz):\n",
    "    # kx, ky, kz : wave number components\n",
    "    return np.sqrt(kx**2 + ky**2 + kz**2)\n",
    "def cal_normalize_direction(kx, ky, kz):\n",
    "    # kx, ky, kz : wave number components\n",
    "    k = cal_k(kx, ky, kz)\n",
    "    return kx/k, ky/k, kz/k"
   ]
  },
  {
   "cell_type": "markdown",
   "metadata": {},
   "source": [
    "### what we have learned in Lecture 3 (Boundary Conditions)"
   ]
  },
  {
   "cell_type": "code",
   "execution_count": 5,
   "metadata": {},
   "outputs": [],
   "source": [
    "def cal_epsilon_r_from_n(n=1.0):\n",
    "    # n : refractive index\n",
    "    return n**2\n",
    "def cal_D_from_E(E, epsilon=1.0):\n",
    "    # E : electric field\n",
    "    # epsilon : permittivity (=epsilon0 * epsilonr)\n",
    "    return E * epsilon\n",
    "def cal_Dz2(Dz1, sigma_s = 0.0):\n",
    "    # Dz1 : z component of the displacement vector field in material 1\n",
    "    # sigma_s : surface charge density\n",
    "    return Dz1 + sigma_s\n",
    "def cal_Bz2(Bz1):\n",
    "    # Bz1 : z component of the magnetic field in material 1\n",
    "    return Bz1"
   ]
  },
  {
   "cell_type": "code",
   "execution_count": 6,
   "metadata": {},
   "outputs": [],
   "source": [
    "def cal_B_from_H(H, mu=1.0):\n",
    "    # H : magnetic intensity field\n",
    "    # mu : permeability (= mu0 * mur)\n",
    "    return H * mu\n",
    "def cal_Ex2(Ex1):\n",
    "    # Ex1 : x component of the electric field in material 1\n",
    "    return Ex1\n",
    "def cal_Ey2(Ey1):\n",
    "    # Ey1 : y component of the electric field in material 1\n",
    "    return Ey1\n",
    "def cal_Hx2(Hx1, Jsy = 0.0):\n",
    "    # Hx1 : x component of the magnetic intensity field in material 1\n",
    "    # Jsy : y component of the surface current density \n",
    "    return Hx1 + Jsy\n",
    "def cal_Hy2(Hy1, Jsx = 0.0):\n",
    "    # Hy1 : y component of the magnetic intensity field in material 1\n",
    "    # Jsx : x component of the surface current density \n",
    "    return Hy1 - Jsx"
   ]
  },
  {
   "cell_type": "markdown",
   "metadata": {},
   "source": [
    "### what we have learned in Lecture 4 (TE mode and TM mode)"
   ]
  },
  {
   "cell_type": "code",
   "execution_count": 7,
   "metadata": {},
   "outputs": [],
   "source": [
    "# TE set\n",
    "def cal_Hx_from_Ey(Ey, kz, w, mu0 = 1.0, mur=1.0):\n",
    "    # Ey : y component of the electic field\n",
    "    # kz : z component of the wave vector\n",
    "    # w : angular frequency\n",
    "    # mu0 : permeability in vacuum\n",
    "    # mur : relative permeability\n",
    "    return -(kz/w/mu0/mur) * Ey\n",
    "def cal_Hz_from_Ey(Ey, kx, w, mu0 = 1.0, mur=1.0):\n",
    "    # Ey : t component of the electric field\n",
    "    # kx : x component of the wave vector\n",
    "    # w : angular frequency\n",
    "    # mu0 : permeability in vacuum\n",
    "    # mur : relative permeability\n",
    "    return (kx/w/mu0/mur) * Ey\n",
    "# TM set\n",
    "def cal_Ex_from_Hy(Hy, kz, w, e0=1.0, er=1.0):\n",
    "    # Hy : y component of the magnetic intensity field\n",
    "    # kz : z component of the wave vector\n",
    "    # w : angular frequency\n",
    "    # e0 : permittivity in vacuum\n",
    "    # er : relative permittivity\n",
    "    return (kz/w/e0/er)*Hy\n",
    "def cal_Ez_from_Hy(Hy, kx, w, e0=1.0, er=1.0):\n",
    "    # Hy : y component of the magnetic intensity field\n",
    "    # kx : x component of the wave vector\n",
    "    # w : angular frequency\n",
    "    # e0 : permittivity in vacuum\n",
    "    # er : relative permittivity\n",
    "    return -(kx/w/e0/er)*Hy"
   ]
  },
  {
   "cell_type": "markdown",
   "metadata": {},
   "source": [
    "## Incidence, Reflection and Transmission Definitions\n",
    "\n",
    "From the experiments, as shown in **Fig. 1**, when there is an incident ray in material 1 (on xz plane, $k_y = 0$), there would be one reflected ray also in material 1 and a transmissive ray in material 2. Now we are going to calculate the reflection coeffcients, $\\gamma_{TE,TM}$, between the reflected ray and the incident ray and the transmission coefficients, $\\tau_{TE,TM}$, between the transmissive ray and the incident ray. \n",
    "\n",
    "<img src=\"Lecture-5-Material/Fig-1.jpg\" width=\"700\">\n",
    "$$Fig. 1. $$\n"
   ]
  },
  {
   "cell_type": "markdown",
   "metadata": {},
   "source": [
    "========================================================================================================================\n",
    "#### Supporting 1\n",
    "The field toward +z could be represented:\n",
    "\n",
    "<font size=\"4\">$$F^+(x,y,z) = F_+exp(i(k_xx+k_yy+k_zz)) - (S1)$$</font>\n",
    "\n",
    "and the field toward -z could be represented:\n",
    "\n",
    "<font size=\"4\">$$F^-(x,y,z) = F_-exp(i(k_xx+k_yy-k_zz)) - (S2)$$</font>\n",
    "\n",
    "where $k_z = \\sqrt{k^2 - k_x^2 - k_y^2}$, which is a constant and $F_+$ and $F_-$ are also complex constants.\n",
    "\n",
    "========================================================================================================================\n"
   ]
  },
  {
   "cell_type": "markdown",
   "metadata": {},
   "source": [
    "Suppose the total electric field and total the magnetic field in material 1 are $E_{x,1}, E_{y,1}, E_{z,1}, H_{x,1}, H_{y,1}, H_{z,1}$ and the electric field and the magnetic field in material 2 are $E_{x,2}, E_{y,2}, E_{z,2}, H_{x,2}, H_{y,2}, H_{z,2}$. \n",
    "\n",
    "### TE mode incidence (**Fig. 1(a)**)\n",
    "Because the incident wave (toward +z) and the reflected wave (toward -z) are both in material 1, then the total field in material 1 would be\n",
    "\n",
    "<font size=\"4\"> for $z<0$ </font> \n",
    "<font size=\"4\">$$E_{y,1}(\\textbf{r}) = E_{y,1}^+(\\textbf{r}) + E_{y,1}^-(\\textbf{r}) - (1)$$</font>\n",
    "<font size=\"4\">$$H_{x,1}(\\textbf{r}) = H_{x,1}^+(\\textbf{r}) + H_{x,1}^-(\\textbf{r}) - (2)$$</font>\n",
    "<font size=\"4\">$$H_{z,1}(\\textbf{r}) = H_{z,1}^+(\\textbf{r}) + H_{z,1}^-(\\textbf{r}) - (3)$$</font>\n",
    "\n",
    "Only transmissive wave is in material 2 (toward +z).\n",
    "\n",
    "<font size=\"4\"> for $z>0$ </font>\n",
    "<font size=\"4\">$$E_{y,2}(\\textbf{r}) = E_{y,2}^+(\\textbf{r}) - (4)$$</font>\n",
    "<font size=\"4\">$$H_{x,2}(\\textbf{r}) = H_{x,2}^+(\\textbf{r}) - (5)$$</font>\n",
    "<font size=\"4\">$$H_{z,2}(\\textbf{r}) = H_{z,2}^+(\\textbf{r}) - (6)$$</font>\n",
    "    \n",
    "Similarly, for TM mode incidence,\n",
    " \n",
    "### TM mode incidence (**Fig. 1(b)**)\n",
    "\n",
    "<font size=\"4\"> for $z<0$ </font>\n",
    "<font size=\"4\">$$H_{y,1}(\\textbf{r}) = H_{y,1}^+(\\textbf{r}) + H_{y,1}^-(\\textbf{r}) - (7)$$</font>\n",
    "<font size=\"4\">$$E_{x,1}(\\textbf{r}) = E_{x,1}^+(\\textbf{r}) + E_{x,1}^-(\\textbf{r}) - (8)$$</font>\n",
    "<font size=\"4\">$$E_{z,1}(\\textbf{r}) = E_{z,1}^+(\\textbf{r}) + E_{z,1}^-(\\textbf{r}) - (9)$$</font>\n",
    "<font size=\"4\"> for $z>0$ </font>\n",
    "<font size=\"4\">$$H_{y,2}(\\textbf{r}) = H_{y,2}^+(\\textbf{r}) - (10)$$</font>\n",
    "<font size=\"4\">$$E_{x,2}(\\textbf{r}) = E_{x,2}^+(\\textbf{r}) - (11)$$</font>\n",
    "<font size=\"4\">$$E_{z,2}(\\textbf{r}) = E_{z,2}^+(\\textbf{r}) - (12)$$</font>\n",
    "   "
   ]
  },
  {
   "cell_type": "code",
   "execution_count": 8,
   "metadata": {},
   "outputs": [],
   "source": [
    "def cal_total_field(F_plus, F_minus=0.0):\n",
    "    return F_plus + F_minus"
   ]
  },
  {
   "cell_type": "markdown",
   "metadata": {},
   "source": [
    "## Match Boundary Conditions\n",
    "\n",
    "Applied with the boundary conditions\n",
    "\n",
    "<font size=\"4\">$$\\hat{\\textbf{a}}_n\\cdot(\\textbf{D}_1-\\textbf{D}_2) = \\rho_S = 0- (13)$$</font>\n",
    "<font size=\"4\">$$\\hat{\\textbf{a}}_n\\cdot(\\textbf{B}_1-\\textbf{B}_2) = 0 - (14)$$</font>\n",
    "<font size=\"4\">$$\\hat{\\textbf{a}}_n\\times(\\textbf{E}_1-\\textbf{E}_2) = \\textbf{0} - (15)$$</font>\n",
    "<font size=\"4\">$$\\hat{\\textbf{a}}_n\\times(\\textbf{H}_1-\\textbf{H}_2) = \\textbf{J}_S =  \\textbf{0}- (16)$$</font>\n",
    "\n",
    "and no charge and current would accumulate on the interface; as a result, the tangential components of $\\textbf{E}$ and $\\textbf{H}$ should be continuous on the interface and the normal components of $\\textbf{D}$ and $\\textbf{B}$ should also be continuous.\n",
    "\n",
    "For similicity, in the following section, we only consider non-magnetic material. (i.e. $\\mu_r = 1.0$)\n",
    "\n",
    "### TE mode Incidence\n",
    "<font size=\"4\">$$E_{y,1}(z=0^-,t) = E_{y,2}(z=0^+,t) - (17)$$</font>\n",
    "<font size=\"4\">$$H_{x,1}(z=0^-,t) = H_{x,2}(z=0^+,t) - (18)$$</font>\n",
    "<font size=\"4\">$$H_{z,1}(z=0^-,t) = H_{z,2}(z=0^+,t) - (19)$$</font>\n",
    "\n",
    "then insert **Eq. (1-6)** into **Eq. (17-19)**,\n",
    "\n",
    "<font size=\"4\">$$E_{y,1}^+(z=0^-,t) + E_{y,1}^-(z=0^-,t) = E_{y,2}^+(z=0^+,t) - (20)$$</font>\n",
    "<font size=\"4\">$$H_{x,1}^+(z=0^-,t) + H_{x,1}^-(z=0^-,t) = H_{x,2}^+(z=0^+,t) - (21)$$</font>\n",
    "<font size=\"4\">$$H_{z,1}^+(z=0^-,t) + H_{z,1}^-(z=0^-,t) = H_{z,2}^+(z=0^+,t) - (22)$$</font>\n",
    "\n",
    "Insert **Eq. (S1-S2)** into **Eq. (20-22)** \n",
    "\n",
    "<font size=\"4\">$$E_{y,1,+}exp(ik_{x,1}x) + E_{y,1,-}exp(ik_{x,1}x) = E_{y,2,+}exp(ik_{x,2}x) - (23)$$</font>\n",
    "<font size=\"4\">$$H_{x,1,+}exp(ik_{x,1}x) + H_{x,1,-}exp(ik_{x,1}x) = H_{x,2,+}exp(ik_{x,2}x) - (24)$$</font>\n",
    "<font size=\"4\">$$H_{z,1,+}exp(ik_{x,1}x) + H_{z,1,-}exp(ik_{x,1}x) = H_{z,2,+}exp(ik_{x,2}x) - (25)$$</font>\n",
    "\n",
    "Because **Eq. (23-25)** hold for all x, then it is obvious that $k_{x,1}$ and $k_{x,2}$ should be the same, which is the same as what we have learned in **Lecture 2 (Snell's Law)**. We showed that because the wave front should be continuous on the interface, the tangential components of the wave vector should be the same and thus $k_{x,1} = k_{x,2}$. As a result, the Snell's Law must be followed, indicating that when you calculate the EM wave properties by Maxwell's equations, you do not need to consider Snell's Law because the Snell's Law is already contained in Maxwell's equations. \n",
    "\n",
    "And in **Lecture 4**, we have derived the relation between $H_x$, $H_z$, and $E_y$, \n",
    "\n",
    "<font size=\"4\">$$H_x = -\\frac{k_z}{\\omega\\mu_0\\mu_r}E_y - (26)$$</font>\n",
    "<font size=\"4\">$$H_z = +\\frac{k_x}{\\omega\\mu_0\\mu_r}E_y - (27)$$</font>\n",
    "<font size=\"4\">$$E_y(\\textbf{r},t) = E_{y,0}exp(i (\\textbf{k}\\cdot\\textbf{r}-\\omega t)) - (28)$$</font>\n",
    "\n",
    "**Eq. (23-25)** would become:\n",
    "\n",
    "<font size=\"4\">$$E_{y,1,+} + E_{y,1,-} = E_{y,2,+} - (29)$$</font>\n",
    "<font size=\"4\">$$-\\frac{k_{z,1}}{\\omega\\mu_0}E_{y,1,+} + -\\frac{-k_{z,1}}{\\omega\\mu_0}E_{y,1,-} = -\\frac{k_{z,2}}{\\omega\\mu_0}E_{y,2,+} - (30)$$</font>\n",
    "<font size=\"4\">$$+\\frac{k_{x,1}}{\\omega\\mu_0}E_{y,1,+} + \\frac{k_{x,1}}{\\omega\\mu_0}E_{y,1,-}  = +\\frac{k_{x,2}}{\\omega\\mu_0}E_{y,2,+} - (31)$$</font>\n",
    "\n",
    "Interestingly, because $k_{x,1} = k_{x,2}$, then **Eq. (29)** and **Eq.(31)** are the same and only one equation should be considered. (As discussed in **Lecture 1**, there exists a relation between the charge density and the current density.)"
   ]
  },
  {
   "cell_type": "markdown",
   "metadata": {},
   "source": [
    "### Reflection Coefficients and Transmission Coefficients of TE mode\n",
    "\n",
    "With the definition of the reflection coefficient, $\\gamma$, and the transmission coefficient, $\\tau$,\n",
    "\n",
    "<font size=\"4\">$$\\gamma_{s,E} = \\frac{E_{y,1,-}}{E_{y,1,+}} - (32)$$</font>\n",
    "<font size=\"4\">$$\\tau_{s,E} = \\frac{E_{y,2,+}}{E_{y,1,+}} - (33)$$</font>\n",
    "\n",
    "Then, **Eq. (29-31)** can be further elaborated as:\n",
    "\n",
    "<font size=\"4\">$$ 1 + \\gamma_{s,E} = \\tau_{s,E} - (34)$$</font>\n",
    "<font size=\"4\">$$ k_{z,1}( 1 - \\gamma_{s,E}) = k_{z,2}\\tau_{s,E} - (35)$$</font>\n",
    "\n",
    "then,\n",
    "\n",
    "<font size=\"4\">$$ \\tau_{s,E} - \\gamma_{s,E} = 1 - (36)$$</font>\n",
    "<font size=\"4\">$$ k_{z,2}\\tau_{s,E} + k_{z,1}\\gamma_{s,E} = k_{z,1} - (37)$$</font>\n",
    "\n",
    "In order to solve the equations, **Eq. (36-37)** can be represented by the matrix representation:\n",
    "\n",
    "<font size=\"4\">$$\\left( \\begin{array}{cc} 1 & -1 \\\\ k_{z,2} & k_{z,1} \\end{array} \\right)\\left( \\begin{array}{c} \\tau_{s,E} \\\\ \\gamma_{s,E} \\end{array} \\right) = \\left( \\begin{array}{c} 1 \\\\ k_{z,1} \\end{array} \\right) - (38)$$</font>\n",
    "\n",
    "Then,\n",
    "\n",
    "<font size=\"4\">$$\\left( \\begin{array}{c} \\tau_{s,E} \\\\ \\gamma_{s,E} \\end{array} \\right) = \\frac{1}{k_{z,1}+k_{z,2}} \\left( \\begin{array}{cc} k_{z,1} & 1 \\\\ -k_{z,2} & 1 \\end{array} \\right)\\left( \\begin{array}{c} 1 \\\\ k_{z,1} \\end{array} \\right) - (39)$$</font>\n",
    "\n",
    "so\n",
    "\n",
    "<font size=\"4\">$$\\left( \\begin{array}{c} \\tau_{s,E} \\\\ \\gamma_{s,E} \\end{array} \\right) =  \\left( \\begin{array}{c} \\frac{2k_{z,1}}{k_{z,1}+k_{z,2}} \\\\ \\frac{k_{z,1}-k_{z,2}}{k_{z,1}+k_{z,2}} \\end{array} \\right) - (40)$$</font>\n",
    "\n",
    "Besides, $k_z = nk_ocos\\theta$, then **Eq. (40)** would become \n",
    "\n",
    "<font size=\"4\">$$\\left( \\begin{array}{c} \\tau_{s,E} \\\\ \\gamma_{s,E} \\end{array} \\right) =  \\left( \\begin{array}{c} \\frac{2n_1k_ocos\\theta_1}{n_1k_ocos\\theta_1+n_2k_ocos\\theta_2} \\\\ \\frac{n_1k_ocos\\theta_1-n_2k_ocos\\theta_2}{n_1k_ocos\\theta_1+n_2k_ocos\\theta_2} \\end{array} \\right) - (41)$$</font>\n",
    "\n",
    "is the same as the equations in [wikipedia (Chinese)](https://zh.wikipedia.org/wiki/%E8%8F%B2%E6%B6%85%E8%80%B3%E6%96%B9%E7%A8%8B) [wikipedia (English)](https://en.wikipedia.org/wiki/Fresnel_equations).\n",
    "\n",
    "Then up to now, we have solved the reflection coefficients and the transmission coefficient of TE mode.\n"
   ]
  },
  {
   "cell_type": "code",
   "execution_count": 9,
   "metadata": {},
   "outputs": [],
   "source": [
    "def solve_r_tau_s_E(kz1, kz2):\n",
    "    # kz1 : the z component of the wave vector in material 1\n",
    "    # kz2 : the z component of the wave vector in material 2\n",
    "    \n",
    "    # according to Eq. (40)\n",
    "    tau_s_E = 2*kz1 / (kz1 + kz2)\n",
    "    r_s_E = (kz1 - kz2) / (kz1 + kz2)\n",
    "    return tau_s_E, r_s_E"
   ]
  },
  {
   "cell_type": "markdown",
   "metadata": {},
   "source": [
    "### TM mode Incidence\n",
    "Follow the same procedure in TE mode incidence. \n",
    "\n",
    "<font size=\"4\">$$H_{y,1}(z=0^-,t)=H_{y,2}(z=0^+,t) - (42)$$</font>\n",
    "<font size=\"4\">$$E_{x,1}(z=0^-,t)=E_{x,2}(z=0^+,t) - (43)$$</font>\n",
    "<font size=\"4\">$$E_{z,1}(z=0^-,t)=E_{z,2}(z=0^+,t) - (44)$$</font>\n",
    "\n",
    "then insert **Eq. (7-12)** into **Eq. (42-44)**,\n",
    "\n",
    "<font size=\"4\">$$H_{y,1}^+(z=0^-,t) + H_{y,1}^-(z=0^-,t) = H_{y,2}^+(z=0^+,t) - (45)$$</font>\n",
    "<font size=\"4\">$$E_{x,1}^+(z=0^-,t) + E_{x,1}^-(z=0^-,t) = E_{x,2}^+(z=0^+,t) - (46)$$</font>\n",
    "<font size=\"4\">$$E_{z,1}^+(z=0^-,t) + E_{z,1}^-(z=0^-,t) = E_{z,2}^+(z=0^+,t) - (47)$$</font>\n",
    "\n",
    "Insert **Eq. (S1-S2)** into **Eq. (45-47)** and $k_{x,1} = k_{x,2}$  \n",
    "\n",
    "<font size=\"4\">$$H_{y,1,+} + H_{y,1,-} = H_{y,2,+} - (48)$$</font>\n",
    "<font size=\"4\">$$E_{x,1,+} + E_{x,1,-} = E_{x,2,+} - (49)$$</font>\n",
    "<font size=\"4\">$$E_{z,1,+} + E_{z,1,-} = E_{z,2,+} - (50)$$</font>\n",
    "\n",
    "In **Lecture 4**\n",
    "\n",
    "<font size=\"4\">$$E_x = + \\frac{k_z}{\\omega\\epsilon_0\\epsilon_r}H_y - (51)$$</font>\n",
    "<font size=\"4\">$$E_z = - \\frac{k_x}{\\omega\\epsilon_0\\epsilon_r}H_y - (52)$$</font>\n",
    "\n",
    "With **Eq. (51-52)**, **Eq. (48-50)** would become:\n",
    "\n",
    "<font size=\"4\">$$H_{y,1,+} + H_{y,1,-} = H_{y,2,+} - (53)$$</font>\n",
    "<font size=\"4\">$$\\frac{k_{z,1}}{\\omega\\epsilon_0\\epsilon_{r,1}}H_{y,1,+} + \\frac{-k_{z,1}}{\\omega\\epsilon_0\\epsilon_{r,1}}H_{y,1,-} = \\frac{k_{z,2}}{\\omega\\epsilon_0\\epsilon_{r,2}}H_{y,2,+} - (54)$$</font>\n",
    "\n"
   ]
  },
  {
   "cell_type": "markdown",
   "metadata": {},
   "source": [
    "Define $\\gamma_{p,H} = H_{y,1,-}/H_{y,1,+}$ and $\\tau_{p,H} = H_{y,2,+}/H_{y,1,+}$\n",
    "\n",
    "<font size=\"4\">$$ 1 + \\gamma_{p,H} = \\tau_{p,H} - (54)$$</font>\n",
    "<font size=\"4\">$$ \\frac{k_{z,1}}{\\epsilon_{r,1}}( 1 - \\gamma_{p,H}) = \\frac{k_{z,2}}{\\epsilon_{r,2}}\\tau_{p,H} - (55)$$</font>\n",
    "\n",
    "Then the matrix representation would be:\n",
    "\n",
    "<font size=\"4\">$$\\left( \\begin{array}{cc} 1 & -1 \\\\ \\frac{k_{z,2}}{\\epsilon_{r,2}} & \\frac{k_{z,1}}{\\epsilon_{r,1}} \\end{array} \\right)\\left( \\begin{array}{c} \\tau_{p,H} \\\\ \\gamma_{p,H} \\end{array} \\right) = \\left( \\begin{array}{c} 1 \\\\ \\frac{k_{z,1}}{\\epsilon_{r,1}} \\end{array} \\right) - (56)$$</font>\n",
    "\n",
    "Then,\n",
    "\n",
    "<font size=\"4\">$$\\left( \\begin{array}{c} \\tau_{p,H} \\\\ \\gamma_{p,H} \\end{array} \\right) = \\frac{1}{\\frac{k_{z,1}}{\\epsilon_{r,1}}+\\frac{k_{z,2}}{\\epsilon_{r,2}}} \\left( \\begin{array}{cc} \\frac{k_{z,1}}{\\epsilon_{r,1}} & 1 \\\\ \\frac{-k_{z,2}}{\\epsilon_{r,2}} & 1 \\end{array} \\right)\\left( \\begin{array}{c} 1 \\\\ \\frac{k_{z,1}}{\\epsilon_{r,1}} \\end{array} \\right) - (57)$$</font>\n",
    "\n",
    "so\n",
    "\n",
    "<font size=\"4\">$$\\left( \\begin{array}{c} \\tau_{p,H} \\\\ \\gamma_{p,H} \\end{array} \\right) =  \\frac{1}{\\frac{k_{z,1}}{\\epsilon_{r,1}}+\\frac{k_{z,2}}{\\epsilon_{r,2}}}\\left( \\begin{array}{c} \\frac{2k_{z,1}}{\\epsilon_{r,1}} \\\\ \\frac{k_{z,1}}{\\epsilon_{r,1}}-\\frac{k_{z,2}}{\\epsilon_{r,2}} \\end{array} \\right) =  \\left( \\begin{array}{c} \\frac{2\\epsilon_{r,2}k_{z,1}}{\\epsilon_{r,2}k_{z,1}+\\epsilon_{r,1}k_{z,2}} \\\\ \\frac{\\epsilon_{r,2}k_{z,1}-\\epsilon_{r,1}k_{z,2}}{\\epsilon_{r,2}k_{z,1}+\\epsilon_{r,1}k_{z,2}} \\end{array} \\right) - (58)$$</font>\n",
    "\n",
    "Interestingly the reflection coefficient and the transmission coefficient in **Eq. (58)** is different from the equations in [wikipedia (Chinese)](https://zh.wikipedia.org/wiki/%E8%8F%B2%E6%B6%85%E8%80%B3%E6%96%B9%E7%A8%8B) [wikipedia (English)](https://en.wikipedia.org/wiki/Fresnel_equations) because the reflection coefficient and the transmission coefficient in wiki is defined based on the total electric field of TM mode. \n",
    "\n",
    "In order to compare the reuslts with wiki, the total electric field of TM mode calculated according to \n",
    "\n",
    "<font size=\"4\">$$\\textbf{k}\\times\\textbf{H}= -\\omega(\\epsilon_0\\epsilon_r\\textbf{E}) - (59)$$</font>\n",
    "\n",
    "in **Lecture 4**. Then\n",
    "\n",
    "<font size=\"4\">$$\\textbf{E} = \\frac{1}{\\omega\\epsilon_0\\epsilon_r} \\textbf{k}\\times\\textbf{H} - (60)$$</font>\n",
    "\n",
    "Then\n",
    "\n",
    "<font size=\"4\">$$\\left( \\begin{array}{c} E_x \\\\ E_y \\\\ E_z \\end{array} \\right) =  \\frac{1}{\\omega\\epsilon_0\\epsilon_r} \\left( \\begin{array}{c} k_yH_z-k_zH_y \\\\ k_zH_x-k_xH_z\\\\ k_xH_y-k_yH_x \\end{array} \\right) =  \\frac{1}{\\omega\\epsilon_0\\epsilon_r} \\left( \\begin{array}{c} -k_zH_y \\\\ 0\\\\ k_xH_y \\end{array} \\right) - (61)$$</font>\n",
    "\n",
    "and \n",
    "\n",
    "<font size=\"4\">$$E = \\sqrt{E_x^2+E_y^2+E_z^2} = \\frac{k}{\\omega\\epsilon_0\\epsilon_r}H_y = \\frac{n\\omega\\sqrt{\\epsilon_0\\mu_0}}{\\omega\\epsilon_0n^2}H_y = \\frac{1}{n}\\sqrt{\\frac{\\mu_0}{\\epsilon_o}}H_y - (62)$$</font>\n",
    "\n",
    "As a result,\n",
    "\n",
    "<font size=\"4\">$$\\gamma_{p,E} = \\frac{E_{1,-}}{E_{1,+}} = \\frac{H_{y,1,-}}{H_{y,1,+}} = \\gamma_{p,H} = \\frac{\\epsilon_{r,2}k_{z,1}-\\epsilon_{r,1}k_{z,2}}{\\epsilon_{r,2}k_{z,1}+\\epsilon_{r,1}k_{z,2}} - (63)$$</font>\n",
    "<font size=\"4\">$$\\tau_{p,E} = \\frac{E_{2,+}}{E_{1,+}} = \\frac{n_1H_{y,2,+}}{n_2H_{y,1,+}} = \\frac{n_1}{n_2}\\tau_{p,H} = \\frac{n_1}{n_2} \\frac{2\\epsilon_{r,2}k_{z,1}}{\\epsilon_{r,2}k_{z,1}+\\epsilon_{r,1}k_{z,2}} - (64)$$</font>\n",
    "\n",
    "With  $k_z = nk_ocos\\theta$, **Eq. (63-64)** is the same as in [wikipedia (Chinese)](https://zh.wikipedia.org/wiki/%E8%8F%B2%E6%B6%85%E8%80%B3%E6%96%B9%E7%A8%8B) [wikipedia (English)](https://en.wikipedia.org/wiki/Fresnel_equations). "
   ]
  },
  {
   "cell_type": "code",
   "execution_count": 10,
   "metadata": {},
   "outputs": [],
   "source": [
    "def solve_r_tau_p_H(kz1, kz2, n1, n2):\n",
    "    # kz1 : the z component of the wave vector in material 1\n",
    "    # kz2 : the z component of the wave vector in material 2\n",
    "    # n1 : the reflective index of material 1\n",
    "    # n2 : the reflective index of material 2\n",
    "    \n",
    "    er1, er2 = n1**2, n2**2\n",
    "    # according to Eq. (58)\n",
    "    tau_p_H = (2*er2*kz1) / (er2*kz1 + er1*kz2)\n",
    "    r_p_H = (er2*kz1 - er1*kz2) / (er2*kz1 + er1*kz2)\n",
    "    return tau_p_H, r_p_H\n",
    "def solve_r_tau_p_E(kz1, kz2, n1, n2):\n",
    "    # kz1 : the z component of the wave vector in material 1\n",
    "    # kz2 : the z component of the wave vector in material 2\n",
    "    # n1 : the reflective index of material 1\n",
    "    # n2 : the reflective index of material 2\n",
    "    \n",
    "    er1, er2 = n1**2, n2**2\n",
    "    # according to Eq. (64)\n",
    "    tau_p_E = (n1/n2) * (2*er2*kz1) / (er2*kz1 + er1*kz2)\n",
    "    r_p_E = (er2*kz1 - er1*kz2) / (er2*kz1 + er1*kz2)\n",
    "    return tau_p_E, r_p_E"
   ]
  },
  {
   "cell_type": "markdown",
   "metadata": {},
   "source": [
    "## Example"
   ]
  },
  {
   "cell_type": "code",
   "execution_count": 11,
   "metadata": {},
   "outputs": [],
   "source": [
    "n1, n2 = 1.5, 1.0\n",
    "theta1 = np.linspace( 0, np.pi/2, 100)\n",
    "wavelength = 520\n",
    "e0, mu0 = 1.0, 1.0\n",
    "\n",
    "theta2 = SnellLaw(theta1, n1, n2)\n",
    "c = 1/np.sqrt(e0*mu0)\n",
    "ko = 2*np.pi/wavelength\n",
    "w = c * ko\n",
    "k1, k2 = n1*ko, n2*ko\n",
    "\n",
    "kx1 = k1 * np.sin(theta1)\n",
    "kz1 = k1 * np.cos(theta1)\n",
    "ky1 = np.zeros( kx1.shape )\n",
    "\n",
    "kx2 = k2 * np.sin(theta2)\n",
    "kz2 = k2 * np.cos(theta2)\n",
    "ky2 = np.zeros( kx2.shape )"
   ]
  },
  {
   "cell_type": "code",
   "execution_count": 12,
   "metadata": {},
   "outputs": [],
   "source": [
    "# calculation from Fresnel Equations (wiki)\n",
    "r_TE_FE, tau_TE_FE = cal_r_tau_TE(theta1, n1, n2)\n",
    "r_TM_FE, tau_TM_FE = cal_r_tau_TM(theta1, n1, n2)\n",
    "# calculation from the matrix\n",
    "tau_s_E, r_s_E = solve_r_tau_s_E(kz1, kz2)\n",
    "tau_p_E, r_p_E = solve_r_tau_p_E(kz1, kz2, n1, n2)\n",
    "tau_p_H, r_p_H = solve_r_tau_p_H(kz1, kz2, n1, n2)"
   ]
  },
  {
   "cell_type": "code",
   "execution_count": 14,
   "metadata": {},
   "outputs": [
    {
     "data": {
      "image/png": "[encoded data removed]",
      "text/plain": [
       "<Figure size 1080x720 with 2 Axes>"
      ]
     },
     "metadata": {},
     "output_type": "display_data"
    }
   ],
   "source": [
    "## plot TE data\n",
    "fig, axes = plt.subplots(1,2)\n",
    "plt.rcParams['figure.figsize'] = [15, 10]\n",
    "\n",
    "axes[0].plot( theta1*180/np.pi, np.real( r_TE_FE ), 'r-', linewidth=1.0)\n",
    "axes[0].plot( theta1*180/np.pi, np.imag( r_TE_FE ), 'b-', linewidth=1.0)\n",
    "axes[0].plot( theta1*180/np.pi, np.real( r_s_E ), 'ro', linewidth=2.0)\n",
    "axes[0].plot( theta1*180/np.pi, np.imag( r_s_E ), 'bo', linewidth=2.0)\n",
    "axes[0].set_xlabel(r'$\\theta_i$ (deg.)', fontsize=20)\n",
    "axes[0].set_ylabel(r'$\\gamma_{TE}$', fontsize=20)\n",
    "axes[0].legend(['real FE', 'imag. FE', 'real MAT', 'imag. MAT'], fontsize=10)\n",
    "plt.xlim( 0, 90);\n",
    "\n",
    "axes[1].plot( theta1*180/np.pi, np.real( tau_TE_FE ), 'r-', linewidth=1.0)\n",
    "axes[1].plot( theta1*180/np.pi, np.imag( tau_TE_FE ), 'b-', linewidth=1.0)\n",
    "axes[1].plot( theta1*180/np.pi, np.real( tau_s_E ), 'ro', linewidth=2.0)\n",
    "axes[1].plot( theta1*180/np.pi, np.imag( tau_s_E ), 'bo', linewidth=2.0)\n",
    "axes[1].set_xlabel(r'$\\theta_i$ (deg.)', fontsize=20)\n",
    "axes[1].set_ylabel(r'$\\tau_{TE}$', fontsize=20)\n",
    "axes[1].legend(['real FE', 'imag. FE', 'real MAT', 'imag. MAT'], fontsize=10)\n",
    "plt.xlim( 0, 90);"
   ]
  },
  {
   "cell_type": "code",
   "execution_count": 15,
   "metadata": {},
   "outputs": [
    {
     "data": {
      "image/png": "[encoded data removed]",
      "text/plain": [
       "<Figure size 1080x720 with 2 Axes>"
      ]
     },
     "metadata": {},
     "output_type": "display_data"
    }
   ],
   "source": [
    "## plot TE data\n",
    "fig, axes = plt.subplots(1,2)\n",
    "plt.rcParams['figure.figsize'] = [15, 10]\n",
    "\n",
    "axes[0].plot( theta1*180/np.pi, np.real( r_TM_FE ), 'r-', linewidth=1.0)\n",
    "axes[0].plot( theta1*180/np.pi, np.imag( r_TM_FE ), 'b-', linewidth=1.0)\n",
    "axes[0].plot( theta1*180/np.pi, np.real( r_p_E ), 'ro', linewidth=2.0)\n",
    "axes[0].plot( theta1*180/np.pi, np.imag( r_p_E ), 'bo', linewidth=2.0)\n",
    "axes[0].set_xlabel(r'$\\theta_i$ (deg.)', fontsize=20)\n",
    "axes[0].set_ylabel(r'$\\gamma_{TM}$', fontsize=20)\n",
    "axes[0].legend(['real FE', 'imag. FE', 'real MAT', 'imag. MAT'], fontsize=10)\n",
    "plt.xlim( 0, 90);\n",
    "\n",
    "axes[1].plot( theta1*180/np.pi, np.real( tau_TM_FE ), 'r-', linewidth=1.0)\n",
    "axes[1].plot( theta1*180/np.pi, np.imag( tau_TM_FE ), 'b-', linewidth=1.0)\n",
    "axes[1].plot( theta1*180/np.pi, np.real( tau_p_E ), 'ro', linewidth=2.0)\n",
    "axes[1].plot( theta1*180/np.pi, np.imag( tau_p_E ), 'bo', linewidth=2.0)\n",
    "axes[1].set_xlabel(r'$\\theta_i$ (deg.)', fontsize=20)\n",
    "axes[1].set_ylabel(r'$\\tau_{TM}$', fontsize=20)\n",
    "axes[1].legend(['real FE', 'imag. FE', 'real MAT', 'imag. MAT'], fontsize=10)\n",
    "plt.xlim( 0, 90);"
   ]
  },
  {
   "cell_type": "markdown",
   "metadata": {},
   "source": [
    "The above figures show that the equations in [wikipedia (Chinese)](https://zh.wikipedia.org/wiki/%E8%8F%B2%E6%B6%85%E8%80%B3%E6%96%B9%E7%A8%8B) [wikipedia (English)](https://en.wikipedia.org/wiki/Fresnel_equations) is the same what we have derived. However, in our derivation, we can calculate all the field quantities."
   ]
  },
  {
   "cell_type": "code",
   "execution_count": 16,
   "metadata": {},
   "outputs": [],
   "source": [
    "# TE mode\n",
    "Ey1p = np.zeros( theta1.shape, dtype=np.complex ) # incidence\n",
    "Hx1p = cal_Hx_from_Ey(Ey1p, kz1, w, mu0 = 1.0, mur=1.0)\n",
    "Hz1p = cal_Hz_from_Ey(Ey1p, kx1, w, mu0 = 1.0, mur=1.0)\n",
    "\n",
    "Ey1n = r_s_E * Ey1p\n",
    "Hx1n = cal_Hx_from_Ey(Ey1n,-kz1, w, mu0 = 1.0, mur=1.0)\n",
    "Hz1n = cal_Hz_from_Ey(Ey1n, kx1, w, mu0 = 1.0, mur=1.0)\n",
    "\n",
    "Ey2p = tau_s_E * Ey1p\n",
    "Hx2p = cal_Hx_from_Ey(Ey2p, kz2, w, mu0 = 1.0, mur=1.0)\n",
    "Hz2p = cal_Hz_from_Ey(Ey2p, kx2, w, mu0 = 1.0, mur=1.0)"
   ]
  },
  {
   "cell_type": "code",
   "execution_count": 17,
   "metadata": {},
   "outputs": [
    {
     "name": "stdout",
     "output_type": "stream",
     "text": [
      "True\n",
      "True\n",
      "True\n"
     ]
    }
   ],
   "source": [
    "# check boundary\n",
    "dEy = Ey1p + Ey1n - Ey2p\n",
    "print( np.sum( np.abs(dEy) ) == 0.0 )\n",
    "\n",
    "dHx = Hx1p + Hx1n - Hx2p\n",
    "print( np.sum( np.abs(dHx) ) == 0.0 )\n",
    "\n",
    "dHz = Hz1p + Hz1n - Hz2p\n",
    "print( np.sum( np.abs(dHz) ) == 0.0 )"
   ]
  },
  {
   "cell_type": "code",
   "execution_count": 18,
   "metadata": {},
   "outputs": [],
   "source": [
    "# TM mode\n",
    "Hy1p = np.zeros( theta1.shape, dtype=np.complex ) # incidence\n",
    "Ex1p = cal_Hx_from_Ey(Ey1p, kz1, w, mu0 = mu0, mur=1.0)\n",
    "Ez1p = cal_Hz_from_Ey(Ey1p, kx1, w, mu0 = mu0, mur=1.0)\n",
    "\n",
    "Hy1n = r_p_H * Hy1p\n",
    "Ex1n = cal_Ex_from_Hy(Hy1n,-kz1, w, e0 = e0, er=n1**2)\n",
    "Ez1n = cal_Ez_from_Hy(Hy1n, kx1, w, e0 = e0, er=n1**2)\n",
    "\n",
    "Hy2p = tau_p_H * Hy1p\n",
    "Ex2p = cal_Ex_from_Hy(Hy2p, kz2, w, e0 = e0, er=n2**2)\n",
    "Ez2p = cal_Ez_from_Hy(Hy2p, kx2, w, e0 = e0, er=n2**2)"
   ]
  },
  {
   "cell_type": "code",
   "execution_count": 19,
   "metadata": {
    "scrolled": true
   },
   "outputs": [
    {
     "name": "stdout",
     "output_type": "stream",
     "text": [
      "True\n",
      "True\n",
      "True\n"
     ]
    }
   ],
   "source": [
    "# check boundary\n",
    "dHy = Hy1p + Hy1n - Hy2p\n",
    "print( np.sum( np.abs(dHy) ) == 0.0 )\n",
    "\n",
    "dEx = Ex1p + Ex1n - Ex2p\n",
    "print( np.sum( np.abs(dEx) ) == 0.0 )\n",
    "\n",
    "dEz = Ez1p + Ez1n - Ez2p\n",
    "print( np.sum( np.abs(dEz) ) == 0.0 )"
   ]
  },
  {
   "cell_type": "markdown",
   "metadata": {},
   "source": [
    "From the above calculation, we found that all the boundary conditions holds. However, in the above calculation, we suppose $k_y = 0.0$, material 1 and material 2 are non-magnetic ($\\mu_r = 1.0$), and only consider 1 interface. In the following section. We'll going to introduce more powerful method, called transfer matrix method (TMM), to solve this questions."
   ]
  },
  {
   "cell_type": "markdown",
   "metadata": {},
   "source": [
    "## The results are wrong when $\\theta_i > \\theta_c$ and we will deal with this in Lecture 6-2."
   ]
  },
  {
   "cell_type": "code",
   "execution_count": null,
   "metadata": {},
   "outputs": [],
   "source": []
  },
  {
   "cell_type": "code",
   "execution_count": null,
   "metadata": {},
   "outputs": [],
   "source": []
  }
 ],
 "metadata": {
  "kernelspec": {
   "display_name": "Python 3",
   "language": "python",
   "name": "python3"
  },
  "language_info": {
   "codemirror_mode": {
    "name": "ipython",
    "version": 3
   },
   "file_extension": ".py",
   "mimetype": "text/x-python",
   "name": "python",
   "nbconvert_exporter": "python",
   "pygments_lexer": "ipython3",
   "version": "3.7.6"
  }
 },
 "nbformat": 4,
 "nbformat_minor": 2
}
