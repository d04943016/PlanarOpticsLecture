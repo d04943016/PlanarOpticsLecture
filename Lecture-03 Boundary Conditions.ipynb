{
 "cells": [
  {
   "cell_type": "markdown",
   "metadata": {},
   "source": [
    "# Lecture-03 Boundary Conditions\n",
    "* author : Wei-Kai Lee\n",
    "* Data : 2019/12/11"
   ]
  },
  {
   "cell_type": "code",
   "execution_count": 1,
   "metadata": {},
   "outputs": [],
   "source": [
    "%matplotlib inline\n",
    "import matplotlib.pyplot as plt\n",
    "import numpy as np"
   ]
  },
  {
   "cell_type": "markdown",
   "metadata": {},
   "source": [
    "## Boundary Conditions"
   ]
  },
  {
   "cell_type": "markdown",
   "metadata": {},
   "source": [
    "From two divergence equations in Maxwell's equation as:\n",
    "\n",
    "<font size=\"4\">$$\\nabla\\cdot\\textbf{D}= \\rho_f - (1)$$</font>\n",
    "<font size=\"4\">$$\\nabla\\cdot\\textbf{B}= 0 - (2)$$</font>\n",
    "\n",
    "With divergence theorem, then\n",
    "\n",
    "<font size=\"4\">$$\\oint_S \\textbf{D}\\cdot d\\textbf{A} = \\int_V(\\nabla\\cdot\\textbf{D})dV = \\int_V\\rho_fdV=Q - (3)$$</font>\n",
    "<font size=\"4\">$$\\oint_S \\textbf{B}\\cdot d\\textbf{A} = \\int_V(\\nabla\\cdot\\textbf{B})dV = 0 - (4)$$</font>\n",
    "\n",
    ", where Q is the total charge enclosed by the integration area.\n",
    "\n",
    "In order to find the relation of the electric fields on both side of a surface, we can build up a differential volume, $dV$, as shown in **Fig. 1**. $dxdy$ is the area parallel to the surface and $dz$ is the height of dV. Hence, $dV = dxdydz$ and $d\\pmb{A}=\\pm dxdy \\hat{\\textbf{z}}$.\n",
    "\n",
    "<img src=\"Lecture-3-Material/Fig-1.jpg\" width=\"300\">\n",
    "$$Fig. 1. $$\n",
    "\n",
    "Then, from the close integral as in **Eq. (3)**, $(D_{z,2}-D_{z,1})dxdy=\\sigma_S dxdy$, where $\\sigma_S$ is the surface charge density. Similar procedure can be done for **Eq. (4)**.\n",
    "\n",
    "<font size=\"4\">$$D_{z,2}-D_{z,1}=\\sigma_S - (5)$$</font>\n",
    "<font size=\"4\">$$B_{z,2}-B_{z,1}=0 - (6)$$</font>\n",
    "\n",
    "For dielectric material, there is no surface charge would be accumulated on the surface and hence the right hand side (RHS) of **Eq. (5)** would become zero, which would become similar to **Eq. (6)**."
   ]
  },
  {
   "cell_type": "code",
   "execution_count": 2,
   "metadata": {},
   "outputs": [],
   "source": [
    "def cal_epsilon_r_from_n(n=1.0):\n",
    "    # n : refractive index\n",
    "    return n**2\n",
    "def cal_D_from_E(E, epsilon=1.0):\n",
    "    # E : electric field\n",
    "    # epsilon : permittivity (=epsilon0 * epsilonr)\n",
    "    return E * epsilon\n",
    "def cal_Dz2(Dz1, sigma_s = 0.0):\n",
    "    # Dz1 : z component of the displacement vector field in material 1\n",
    "    # sigma_s : surface charge density\n",
    "    return Dz1 + sigma_s\n",
    "def cal_Bz2(Bz1):\n",
    "    # Bz1 : z component of the magnetic field in material 1\n",
    "    return Bz1"
   ]
  },
  {
   "cell_type": "markdown",
   "metadata": {},
   "source": [
    "On the other hand, from two curl equations in Maxwell's equation as:\n",
    "\n",
    "<font size=\"4\">$$\\nabla\\times\\textbf{E}= i\\omega\\textbf{B} - (7)$$</font>\n",
    "<font size=\"4\">$$\\nabla\\times\\textbf{H}= \\textbf{J}_f-i\\omega\\textbf{D} - (8)$$</font>\n",
    "\n",
    "\n",
    "With Stoke's theorem, then\n",
    "\n",
    "<font size=\"4\">$$\\oint_l \\textbf{E}\\cdot d\\textbf{l} = \\int_A(\\nabla\\times\\textbf{E})\\cdot d\\textbf{A} = \\int_A(i\\omega\\textbf{B})\\cdot d\\textbf{A} - (9)$$</font>\n",
    "<font size=\"4\">$$\\oint_l \\textbf{H}\\cdot d\\textbf{l} = \\int_A(\\nabla\\times\\textbf{H})\\cdot d\\textbf{A} = \\int_A(\\textbf{J}_f-i\\omega\\textbf{D})\\cdot d\\textbf{A} - (10)$$</font>\n",
    "\n",
    "Similar to the previous block, we can build up a differential area, $d\\textbf{A}$, as shown in **Fig. 2**. $l$ is the close loop as in the figure. Hence, $d\\textbf{A} = dxdz \\hat{\\textbf{y}}$. Because dA is extremely small and the right hand side would approach to zeros except the surface current density on the interface, $\\textbf{J}_S=\\textbf{J}_f/dz$, then **Eq. (10)** would become $(H_{x,2}-H_{x,1})dx=J_{S,y}dx$. Similar process can be done in the y direction and **Eq. (9)**. Then,\n",
    "\n",
    "<font size=\"4\">$$E_{x,2}-E_{x,1}=0 - (11)$$</font>\n",
    "<font size=\"4\">$$E_{y,2}-E_{y,1}=0 - (12)$$</font>\n",
    "<font size=\"4\">$$H_{x,2}-H_{x,1}=J_{S,y} - (13)$$</font>\n",
    "<font size=\"4\">$$H_{y,2}-H_{y,1}=-J_{S,x} - (14)$$</font>\n",
    "\n",
    "<img src=\"Lecture-3-Material/Fig-2.jpg\" width=\"300\">\n",
    "$$Fig. 2. $$"
   ]
  },
  {
   "cell_type": "code",
   "execution_count": 3,
   "metadata": {},
   "outputs": [],
   "source": [
    "def cal_B_from_H(H, mu=1.0):\n",
    "    # H : magnetic intensity field\n",
    "    # mu : permeability (= mu0 * mur)\n",
    "    return H * mu\n",
    "def cal_Ex2(Ex1):\n",
    "    # Ex1 : x component of the electric field in material 1\n",
    "    return Ex1\n",
    "def cal_Ey2(Ey1):\n",
    "    # Ey1 : y component of the electric field in material 1\n",
    "    return Ey1\n",
    "def cal_Hx2(Hx1, Jsy = 0.0):\n",
    "    # Hx1 : x component of the magnetic intensity field in material 1\n",
    "    # Jsy : y component of the surface current density \n",
    "    return Hx1 + Jsy\n",
    "def cal_Hy2(Hy1, Jsx = 0.0):\n",
    "    # Hy1 : y component of the magnetic intensity field in material 1\n",
    "    # Jsx : x component of the surface current density \n",
    "    return Hy1 - Jsx"
   ]
  },
  {
   "cell_type": "markdown",
   "metadata": {},
   "source": [
    "From **Eq. (5-6, 11-14)**, we can summarize the boundary by using the vectors representation.\n",
    "\n",
    "<font size=\"4\">$$\\hat{\\textbf{a}}_n\\cdot(\\textbf{D}_1-\\textbf{D}_2)=\\rho_S - (15)$$</font>\n",
    "<font size=\"4\">$$\\hat{\\textbf{a}}_n\\cdot(\\textbf{B}_1-\\textbf{B}_2)=0 - (16)$$</font>\n",
    "<font size=\"4\">$$\\hat{\\textbf{a}}_n\\times(\\textbf{E}_1-\\textbf{E}_2)=\\textbf{0} - (17)$$</font>\n",
    "<font size=\"4\">$$\\hat{\\textbf{a}}_n\\times(\\textbf{H}_1-\\textbf{H}_2)=\\textbf{J}_S - (18)$$</font>\n",
    "\n",
    ",where $\\hat{\\textbf{a}}_n$ is the normal vector of the interface.\n",
    "\n",
    "In order to further understand the boundary condition, we're going to show you how to understand the physical meaning of these equations.\n",
    "\n",
    "In senior high school, the teacher would tell us, because the electric field would be going out of a single charge as in **Fig. 3 (a)**. Then if there would be some surface charge accumulated on the interface between material 1 and material 2 as in **Fig. 3 (b)**, the electric field would be normal to the interface. The direction of the electric field on material 2 is toward +z and the direction of the electric field in material 1 is toward -z. The direction is discontinuous at z=0, showing that the charge or so-called electric monopole would cause the discontinuous in the normal direction of the electric field (**Eq. (5, 15)**). In constrast, because there is no magnetic monopole, the normal direction of the magnetic field should be continuous (**Eq. (6, 16)**).\n",
    "\n",
    "<img src=\"Lecture-3-Material/Fig-3.jpg\" width=\"600\">\n",
    "$$Fig. 3. $$\n",
    "\n",
    "On the other hand, from the [Ampere's right hand rule](https://en.wikipedia.org/wiki/Right-hand_rule), the current would cause the tangential direction of the magnetic field. Hence, if there is a surface current, then the direction of the magnetic field in material 1 and material 2 should also be different from each other (**Eq. (13-14, 18)**, **Fig. 4**).\n",
    "\n",
    "<img src=\"Lecture-3-Material/Fig-4.jpg\" width=\"300\">\n",
    "$$Fig. 4. $$\n",
    "\n",
    "If there is no free surface charge and free surface current on the interface, the right hand side in **Eq. (15-18)** would all become all zeros."
   ]
  },
  {
   "cell_type": "code",
   "execution_count": null,
   "metadata": {},
   "outputs": [],
   "source": []
  },
  {
   "cell_type": "code",
   "execution_count": null,
   "metadata": {},
   "outputs": [],
   "source": []
  },
  {
   "cell_type": "code",
   "execution_count": null,
   "metadata": {},
   "outputs": [],
   "source": []
  }
 ],
 "metadata": {
  "kernelspec": {
   "display_name": "Python 3",
   "language": "python",
   "name": "python3"
  },
  "language_info": {
   "codemirror_mode": {
    "name": "ipython",
    "version": 3
   },
   "file_extension": ".py",
   "mimetype": "text/x-python",
   "name": "python",
   "nbconvert_exporter": "python",
   "pygments_lexer": "ipython3",
   "version": "3.6.5"
  }
 },
 "nbformat": 4,
 "nbformat_minor": 2
}
