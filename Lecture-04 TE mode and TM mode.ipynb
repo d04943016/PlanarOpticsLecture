{
 "cells": [
  {
   "cell_type": "markdown",
   "metadata": {},
   "source": [
    "# Lecture-04 TE mode and TM mode\n",
    "* author : Wei-Kai Lee\n",
    "* Data : 2019/12/12"
   ]
  },
  {
   "cell_type": "markdown",
   "metadata": {},
   "source": [
    "## Maxwell's Equations and Vector Plane Wave\n",
    "\n",
    "From Maxwell's equations in frequency domain:\n",
    "\n",
    "<font size=\"4\">$$\\nabla\\cdot\\textbf{D} = \\rho_f - (1)$$</font>\n",
    "<font size=\"4\">$$\\nabla\\cdot\\textbf{B} = 0 - (2)$$</font>\n",
    "<font size=\"4\">$$\\nabla\\times\\textbf{E} = i\\omega\\textbf{B} - (3)$$</font>\n",
    "<font size=\"4\">$$\\nabla\\times\\textbf{H} = \\textbf{J}_f-i\\omega\\textbf{D} - (4)$$</font>\n",
    "\n",
    "As discuss in **Lecture 1**, the electric field and the magnetic field of a plane wave can be represented as\n",
    "\n",
    "<font size=\"4\">$$\\textbf{E}(\\textbf{r},t) = \\textbf{E}_0exp(i (\\textbf{k}\\cdot\\textbf{r}-\\omega t)) - (5)$$</font>\n",
    "<font size=\"4\">$$\\textbf{H}(\\textbf{r},t) = \\textbf{H}_0exp(i (\\textbf{k}\\cdot\\textbf{r}-\\omega t)) - (6)$$</font>\n",
    "\n",
    ",where $\\textbf{E}_0$ and $\\textbf{H}_0$ are constant complex vectors and the phase term can be defined as $\\phi = \\textbf{k}\\cdot\\textbf{r}-\\omega t$. \n",
    "\n",
    "Insert **Eq. (5-6)** into Maxwell's Equation **Eq. (1-4)** and suppose there is no free current density and free charge density. Then\n",
    "\n",
    "<font size=\"4\">$$i\\textbf{k}\\cdot(\\epsilon_0\\epsilon_r\\textbf{E}) = 0 - (7)$$</font>\n",
    "<font size=\"4\">$$i\\textbf{k}\\cdot(\\mu_0\\mu_r\\textbf{H})= 0 - (8)$$</font>\n",
    "<font size=\"4\">$$i\\textbf{k}\\times\\textbf{E}= i\\omega(\\mu_0\\mu_r\\textbf{H}) - (9)$$</font>\n",
    "<font size=\"4\">$$i\\textbf{k}\\times\\textbf{H}= -i\\omega(\\epsilon_0\\epsilon_r\\textbf{E}) - (10)$$</font>\n",
    "\n",
    "Interestingly, it is noticable that in the source free region, the wave vector $\\textbf{k}$ is normal to the electric field $\\textbf{E}$ and the magnetic field $\\textbf{H}$ from **Eq. (7-8)**. Besides, from **Eq. (9-10)**, the directions of $\\textbf{k}$, $\\textbf{E}$, and $\\textbf{H}$ would form an orthogonal coordinate. The cross product of $\\textbf{E}$ and $\\textbf{H}$ would be parallel to the direction of the wave vector $\\textbf{k}$ (i.e. $\\textbf{E}\\times \\textbf{H}//\\textbf{k}$, $\\textbf{k}\\times \\textbf{E}//\\textbf{H}$, and $\\textbf{H}\\times \\textbf{k}//\\textbf{E}$).\n"
   ]
  },
  {
   "cell_type": "markdown",
   "metadata": {},
   "source": [
    "## TE mode and TM mode of plane wave\n",
    "\n",
    "From **Eq.(7-10)**, the equations of the field components are:\n",
    "\n",
    "<font size=\"4\">$$i(k_yE_z-k_zE_y)= i\\omega(\\mu_0\\mu_rH_x) - (11)$$</font>\n",
    "<font size=\"4\">$$i(k_zE_x-k_xE_z)= i\\omega(\\mu_0\\mu_rH_y) - (12)$$</font>\n",
    "<font size=\"4\">$$i(k_xE_y-k_yE_x)= i\\omega(\\mu_0\\mu_rH_z) - (13)$$</font>\n",
    "<font size=\"4\">$$i(k_yH_z-k_zH_y)=  - i\\omega(\\epsilon_0\\epsilon_rE_x) - (14)$$</font>\n",
    "<font size=\"4\">$$i(k_zH_x-k_xH_z)=  - i\\omega(\\epsilon_0\\epsilon_rE_y) - (15)$$</font>\n",
    "<font size=\"4\">$$i(k_xH_y-k_yH_x)=  - i\\omega(\\epsilon_0\\epsilon_rE_z) - (16)$$</font>\n",
    "\n",
    "Without loss of generality, it is possible to transform the coordinate system such that $\\textbf{k}$ is on x-z plane and $k_y=0$. Then, rearrange the equations. **Eq. (11)**$\\rightarrow$**Eq. (17)**, **Eq. (12)**$\\rightarrow$**Eq. (20)**, **Eq. (13)**$\\rightarrow$**Eq. (18)**, **Eq. (14)**$\\rightarrow$**Eq. (21)**, **Eq. (15)**$\\rightarrow$**Eq. (19)**, and **Eq. (16)**$\\rightarrow$**Eq. (22)**\n",
    "\n",
    "### TE mode (transverse electric)\n",
    "<font size=\"4\">$$i(-k_zE_y)= i\\omega(\\mu_0\\mu_rH_x) - (17)$$</font>\n",
    "<font size=\"4\">$$i(k_xE_y)= i\\omega(\\mu_0\\mu_rH_z) - (18)$$</font>\n",
    "<font size=\"4\">$$i(k_zH_x-k_xH_z)=  - i\\omega(\\epsilon_0\\epsilon_rE_y) - (19)$$</font>\n",
    " \n",
    "### TM mode (transverse magnetic)\n",
    "<font size=\"4\">$$i(k_zE_x-k_xE_z)= i\\omega(\\mu_0\\mu_rH_y) - (20)$$</font>\n",
    "<font size=\"4\">$$i(-k_zH_y)=  - i\\omega(\\epsilon_0\\epsilon_rE_x) - (21)$$</font>\n",
    "<font size=\"4\">$$i(k_xH_y)=  - i\\omega(\\epsilon_0\\epsilon_rE_z) - (22)$$</font>"
   ]
  },
  {
   "cell_type": "markdown",
   "metadata": {},
   "source": [
    "From **Eq. (17-22)**, the curl equations in Maxwell's equations can be separated into two sets. The first set is only related to $E_y$, $H_x$, and $H_z$ (**Eq. (17-19)**) and the other set is related to $H_y$, $E_x$, and $E_z$ (**Eq. (20-22)**) and we called the 1st set transverse electric (TE) mode and the second one is transverse magnetic (TM) mode.\n",
    "\n",
    "From **Eq. (17-19)**, the field in TE mode can be represented by $E_y$. Similarly, from  **Eq. (20-22)**, the fields in the TM mode can be represented by $H_y$. i.e.:\n",
    "\n",
    "### TE mode\n",
    "<font size=\"4\">$$H_x = -\\frac{k_z}{\\omega\\mu_0\\mu_r}E_y - (23)$$</font>\n",
    "<font size=\"4\">$$H_z = +\\frac{k_x}{\\omega\\mu_0\\mu_r}E_y - (24)$$</font>\n",
    "<font size=\"4\">$$E_y(\\textbf{r},t) = E_{y,0}exp(i (\\textbf{k}\\cdot\\textbf{r}-\\omega t)) - (25)$$</font>\n",
    "\n",
    "\n",
    "### TM mode\n",
    "<font size=\"4\">$$E_x = + \\frac{k_z}{\\omega\\epsilon_0\\epsilon_r}H_y - (26)$$</font>\n",
    "<font size=\"4\">$$E_z = - \\frac{k_x}{\\omega\\epsilon_0\\epsilon_r}H_y - (27)$$</font>\n",
    "<font size=\"4\">$$H_y(\\textbf{r},t) = H_{y,0}exp(i (\\textbf{k}\\cdot\\textbf{r}-\\omega t)) - (28)$$</font>\n"
   ]
  },
  {
   "cell_type": "code",
   "execution_count": 1,
   "metadata": {},
   "outputs": [],
   "source": [
    "# TE set\n",
    "def cal_Hx_from_Ey(Ey, kz, w, mu0 = 1.0, mur=1.0):\n",
    "    # Ey : y component of the electic field\n",
    "    # kz : z component of the wave vector\n",
    "    # w : angular frequency\n",
    "    # mu0 : permeability in vacuum\n",
    "    # mur : relative permeability\n",
    "    return -(kz/w/mu0/mur) * Ey\n",
    "def cal_Hz_from_Ey(Ey, kx, w, mu0 = 1.0, mur=1.0):\n",
    "    # Ey : t component of the electric field\n",
    "    # kx : x component of the wave vector\n",
    "    # w : angular frequency\n",
    "    # mu0 : permeability in vacuum\n",
    "    # mur : relative permeability\n",
    "    return (kx/w/mu0/mur) * Ey"
   ]
  },
  {
   "cell_type": "code",
   "execution_count": 2,
   "metadata": {},
   "outputs": [],
   "source": [
    "# TM set\n",
    "def cal_Ex_from_Hy(Hy, kz, w, e0=1.0, er=1.0):\n",
    "    # Hy : y component of the magnetic intensity field\n",
    "    # kz : z component of the wave vector\n",
    "    # w : angular frequency\n",
    "    # e0 : permittivity in vacuum\n",
    "    # er : relative permittivity\n",
    "    return (kz/w/e0/er)*Hy\n",
    "def cal_Ez_from_Hy(Hy, kx, w, e0=1.0, er=1.0):\n",
    "    # Hy : y component of the magnetic intensity field\n",
    "    # kx : x component of the wave vector\n",
    "    # w : angular frequency\n",
    "    # e0 : permittivity in vacuum\n",
    "    # er : relative permittivity\n",
    "    return -(kx/w/e0/er)*Hy"
   ]
  },
  {
   "cell_type": "markdown",
   "metadata": {},
   "source": [
    "Interestingly, if you insert **Eq. (23-24)** into **Eq. (19)**, then\n",
    "\n",
    "<font size=\"4\">$$-\\frac{k_z^2}{\\omega\\mu_0\\mu_r}E_y-\\frac{k_x^2}{\\omega\\mu_0\\mu_r}E_y =  -\\omega(\\epsilon_0\\epsilon_rE_y) - (29)$$</font>\n",
    "<font size=\"4\">$$-\\frac{k_x^2+k_z^2}{\\omega\\mu_0\\mu_r}E_y =  -\\omega(\\epsilon_0\\epsilon_rE_y) - (30)$$</font>\n",
    "\n",
    "and $k_x^2 + k_z^2 = k^2 = \\omega^2\\mu_0\\mu_r\\epsilon_0\\epsilon_r$\n",
    "\n",
    "<font size=\"4\">$$-\\omega(\\epsilon_0\\epsilon_rE_y) =  -\\omega(\\epsilon_0\\epsilon_rE_y) - (31)$$</font>\n",
    "\n",
    "**Eq. (31)** is an identity equation, showing that **Eq. (19)** is a dummy equation. As a result, the value of $E_{y,0}$ cannot be determined by these equations and it should be determined by the boundary condition. Similarly, $H_{y,0}$ is also determined by the boundary condition."
   ]
  },
  {
   "cell_type": "code",
   "execution_count": null,
   "metadata": {},
   "outputs": [],
   "source": []
  },
  {
   "cell_type": "code",
   "execution_count": null,
   "metadata": {},
   "outputs": [],
   "source": []
  }
 ],
 "metadata": {
  "kernelspec": {
   "display_name": "Python 3",
   "language": "python",
   "name": "python3"
  },
  "language_info": {
   "codemirror_mode": {
    "name": "ipython",
    "version": 3
   },
   "file_extension": ".py",
   "mimetype": "text/x-python",
   "name": "python",
   "nbconvert_exporter": "python",
   "pygments_lexer": "ipython3",
   "version": "3.6.5"
  }
 },
 "nbformat": 4,
 "nbformat_minor": 2
}
